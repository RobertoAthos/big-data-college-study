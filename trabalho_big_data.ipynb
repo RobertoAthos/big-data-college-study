{
  "cells": [
    {
      "cell_type": "markdown",
      "metadata": {
        "id": "tdI6SN9hTB4g"
      },
      "source": [
        "# Comandos para realização do trabalho da matéria de Big Data com uso da biblioteca PySpark.\n",
        "\n",
        "## <font color=red>Observação importante:</font>\n",
        "\n",
        "<font color=yellow>Trabalho realizado com uso da biblioteca pandas não será aceito!</font>"
      ]
    },
    {
      "cell_type": "markdown",
      "metadata": {
        "id": "tAp5DIOVTB4h"
      },
      "source": [
        "## Upload do arquivo `imdb-reviews-pt-br.csv` para dentro do Google Colab"
      ]
    },
    {
      "cell_type": "code",
      "execution_count": 1,
      "metadata": {
        "colab": {
          "base_uri": "https://localhost:8080/"
        },
        "id": "rtq0dc9ETB4h",
        "outputId": "ca25f9c7-2a86-4889-cba3-bac2dbe79770"
      },
      "outputs": [
        {
          "output_type": "stream",
          "name": "stdout",
          "text": [
            "--2024-11-09 15:22:48--  https://raw.githubusercontent.com/N-CPUninter/Big_Data/main/data/imdb-reviews-pt-br.zip\n",
            "Resolving raw.githubusercontent.com (raw.githubusercontent.com)... 185.199.108.133, 185.199.109.133, 185.199.110.133, ...\n",
            "Connecting to raw.githubusercontent.com (raw.githubusercontent.com)|185.199.108.133|:443... connected.\n",
            "HTTP request sent, awaiting response... 200 OK\n",
            "Length: 49549692 (47M) [application/zip]\n",
            "Saving to: ‘imdb-reviews-pt-br.zip’\n",
            "\n",
            "imdb-reviews-pt-br. 100%[===================>]  47.25M   136MB/s    in 0.3s    \n",
            "\n",
            "2024-11-09 15:22:49 (136 MB/s) - ‘imdb-reviews-pt-br.zip’ saved [49549692/49549692]\n",
            "\n",
            "Archive:  imdb-reviews-pt-br.zip\n",
            "  inflating: imdb-reviews-pt-br.csv  \n"
          ]
        }
      ],
      "source": [
        "!wget https://raw.githubusercontent.com/N-CPUninter/Big_Data/main/data/imdb-reviews-pt-br.zip -O imdb-reviews-pt-br.zip\n",
        "!unzip imdb-reviews-pt-br.zip\n",
        "!rm imdb-reviews-pt-br.zip"
      ]
    },
    {
      "cell_type": "markdown",
      "metadata": {
        "id": "bwj_m65pTB4i"
      },
      "source": [
        "## Instalação manual das dependências para uso do pyspark no Google Colab"
      ]
    },
    {
      "cell_type": "code",
      "execution_count": 2,
      "metadata": {
        "colab": {
          "base_uri": "https://localhost:8080/"
        },
        "id": "g5a1yGm-TB4i",
        "outputId": "a1d99024-12fd-4863-f332-c13341ad9c86"
      },
      "outputs": [
        {
          "output_type": "stream",
          "name": "stdout",
          "text": [
            "Requirement already satisfied: pyspark in /usr/local/lib/python3.10/dist-packages (3.5.3)\n",
            "Requirement already satisfied: py4j==0.10.9.7 in /usr/local/lib/python3.10/dist-packages (from pyspark) (0.10.9.7)\n"
          ]
        }
      ],
      "source": [
        "!pip install pyspark"
      ]
    },
    {
      "cell_type": "markdown",
      "metadata": {
        "id": "Ebr50lyXTB4i"
      },
      "source": [
        "## Importar, instanciar e criar a SparkSession"
      ]
    },
    {
      "cell_type": "code",
      "execution_count": 3,
      "metadata": {
        "id": "R8oQ02z8TB4i"
      },
      "outputs": [],
      "source": [
        "from pyspark.sql import SparkSession\n",
        "\n",
        "appName = \"PySpark Trabalho de Big Data\"\n",
        "master = \"local\"\n",
        "\n",
        "spark = SparkSession.builder.appName(appName).master(master).getOrCreate()"
      ]
    },
    {
      "cell_type": "markdown",
      "metadata": {
        "id": "_KZ-17XfTB4i"
      },
      "source": [
        "## Criar spark dataframe do CSV utilizando o método read.csv do spark"
      ]
    },
    {
      "cell_type": "code",
      "execution_count": 4,
      "metadata": {
        "id": "miGTXjpzTB4j"
      },
      "outputs": [],
      "source": [
        "imdb_df = spark.read.csv('imdb-reviews-pt-br.csv',\n",
        "                         header=True,\n",
        "                         quote=\"\\\"\",\n",
        "                         escape=\"\\\"\",\n",
        "                         encoding=\"UTF-8\")"
      ]
    },
    {
      "cell_type": "markdown",
      "metadata": {
        "id": "YLjyd-HATB4j"
      },
      "source": [
        "# Questão 1"
      ]
    },
    {
      "cell_type": "markdown",
      "metadata": {
        "id": "TrLO0cVRTB4j"
      },
      "source": [
        "## Criar funções de MAP:\n",
        "- Criar função para mapear o \"sentiment\" como chave e o \"id\" como valor do tipo inteiro"
      ]
    },
    {
      "cell_type": "code",
      "execution_count": 15,
      "metadata": {
        "id": "S5ew8Q4WTB4j"
      },
      "outputs": [],
      "source": [
        "def map1(x):\n",
        "    # Extrair o ID e a classificação (sentiment)\n",
        "    # Retornar uma tupla apenas se for negativo\n",
        "    if x.sentiment == 'neg':\n",
        "        return (1, int(x.id))  # Key é 1 para todos para fazer a soma total\n",
        "    return (1, 0)  # Retorna 0 para não afetar a soma"
      ]
    },
    {
      "cell_type": "markdown",
      "metadata": {
        "id": "KRy7JMQsTB4j"
      },
      "source": [
        "## Cria funções de REDUCE:\n",
        "\n",
        "- Criar função de reduce para somar os IDs por \"sentiment\"."
      ]
    },
    {
      "cell_type": "code",
      "execution_count": 16,
      "metadata": {
        "id": "GjX7npLNTB4j"
      },
      "outputs": [],
      "source": [
        "def reduceByKey1(x, y):\n",
        "    # Somar os valores\n",
        "    return x + y"
      ]
    },
    {
      "cell_type": "markdown",
      "metadata": {
        "id": "VvHEoeGCTB4k"
      },
      "source": [
        "## Aplicação do map/reduce e visualização do resultado"
      ]
    },
    {
      "cell_type": "code",
      "execution_count": 17,
      "metadata": {
        "colab": {
          "base_uri": "https://localhost:8080/"
        },
        "id": "cz-IVfsvTB4k",
        "outputId": "676c9d6e-d3cb-4c03-9437-7f5572bae668"
      },
      "outputs": [
        {
          "output_type": "stream",
          "name": "stdout",
          "text": [
            "A soma dos IDs dos reviews negativos é: 459568555\n"
          ]
        }
      ],
      "source": [
        "resultado = imdb_df.rdd \\\n",
        "    .map(map1) \\\n",
        "    .reduceByKey(reduceByKey1) \\\n",
        "    .collect()\n",
        "\n",
        "print(f\"A soma dos IDs dos reviews negativos é: {resultado[0][1]}\")"
      ]
    },
    {
      "cell_type": "markdown",
      "metadata": {
        "id": "ZfwiPApaTB4k"
      },
      "source": [
        "# Questão 2:"
      ]
    },
    {
      "cell_type": "markdown",
      "metadata": {
        "id": "ViQog7kATB4k"
      },
      "source": [
        "## Criar funções de MAP:\n",
        "- Criar função para mapear o \"sentiment\" como chave e uma tupla com a soma das palavras de cada texto como valor."
      ]
    },
    {
      "cell_type": "code",
      "source": [
        "def count_words(text):\n",
        "    # Remove pontuações e converte para minúsculas antes de contar\n",
        "    if text is None:\n",
        "        return 0\n",
        "    words = text.strip().split()\n",
        "    return len(words)"
      ],
      "metadata": {
        "id": "_3uxNBc6xLpp"
      },
      "execution_count": 19,
      "outputs": []
    },
    {
      "cell_type": "code",
      "execution_count": 20,
      "metadata": {
        "id": "ztNJkKnMTB4k"
      },
      "outputs": [],
      "source": [
        "def map2(x):\n",
        "    # Retorna uma tupla com o sentiment como chave e (palavras_pt, palavras_en) como valor\n",
        "    pt_words = count_words(x.text_pt)\n",
        "    en_words = count_words(x.text_en)\n",
        "    return (x.sentiment, (pt_words, en_words))"
      ]
    },
    {
      "cell_type": "markdown",
      "metadata": {
        "id": "rRQtxOEjTB4k"
      },
      "source": [
        "## Cria funções de REDUCE:\n",
        "\n",
        "- Criar função de reduce para somar o numero de palavras de cada texto português e inglês por \"sentiment\"."
      ]
    },
    {
      "cell_type": "code",
      "execution_count": 21,
      "metadata": {
        "id": "XMzNfJr6TB4k"
      },
      "outputs": [],
      "source": [
        "def reduceByKey2(x, y):\n",
        "    # Soma as contagens de palavras mantendo português e inglês separados\n",
        "    return (x[0] + y[0], x[1] + y[1])"
      ]
    },
    {
      "cell_type": "markdown",
      "metadata": {
        "id": "zDva25i3TB4k"
      },
      "source": [
        "## Aplicação do map/reduce e visualização do resultado\n",
        "\n",
        "1. Aplicar o map/reduce no seu dataframe spark e realizar o collect() ao final\n",
        "2. Selecionar os dados referentes aos textos negativos para realizar a subtração.\n",
        "3. Realizar a subtração das contagens de palavras dos textos negativos para obter o resultado final"
      ]
    },
    {
      "cell_type": "code",
      "execution_count": 22,
      "metadata": {
        "colab": {
          "base_uri": "https://localhost:8080/"
        },
        "id": "-KIlS-GETB4k",
        "outputId": "ac52a94a-6aee-4981-d1fe-dfe5315857f6"
      },
      "outputs": [
        {
          "output_type": "stream",
          "name": "stdout",
          "text": [
            "Total de palavras em português (negativos): 5455273\n",
            "Total de palavras em inglês (negativos): 5400324\n",
            "Diferença (português - inglês): 54949\n"
          ]
        }
      ],
      "source": [
        "resultado = imdb_df.rdd \\\n",
        "    .map(map2) \\\n",
        "    .reduceByKey(reduceByKey2) \\\n",
        "    .collect()\n",
        "\n",
        "for sentiment, (pt_count, en_count) in resultado:\n",
        "    if sentiment == 'neg':\n",
        "        diferenca = pt_count - en_count\n",
        "        print(f\"Total de palavras em português (negativos): {pt_count}\")\n",
        "        print(f\"Total de palavras em inglês (negativos): {en_count}\")\n",
        "        print(f\"Diferença (português - inglês): {diferenca}\")\n"
      ]
    }
  ],
  "metadata": {
    "language_info": {
      "name": "python"
    },
    "orig_nbformat": 4,
    "colab": {
      "provenance": []
    },
    "kernelspec": {
      "name": "python3",
      "display_name": "Python 3"
    }
  },
  "nbformat": 4,
  "nbformat_minor": 0
}